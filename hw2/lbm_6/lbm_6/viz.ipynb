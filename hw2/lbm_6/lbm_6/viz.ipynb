{
 "cells": [
  {
   "cell_type": "code",
   "execution_count": 265,
   "metadata": {
    "collapsed": true
   },
   "outputs": [],
   "source": [
    "import numpy as np\n",
    "import matplotlib.pyplot as plt\n",
    "import matplotlib.cm as cm"
   ]
  },
  {
   "cell_type": "code",
   "execution_count": 266,
   "metadata": {
    "collapsed": true
   },
   "outputs": [],
   "source": [
    "outdir = \"cyl_Re80.out/\""
   ]
  },
  {
   "cell_type": "code",
   "execution_count": null,
   "metadata": {
    "collapsed": true
   },
   "outputs": [],
   "source": []
  },
  {
   "cell_type": "code",
   "execution_count": 605,
   "metadata": {},
   "outputs": [],
   "source": [
    "contents = np.loadtxt(\"cyl_Re80.out/fr_0000.txt\")"
   ]
  },
  {
   "cell_type": "code",
   "execution_count": null,
   "metadata": {
    "collapsed": true
   },
   "outputs": [],
   "source": []
  },
  {
   "cell_type": "code",
   "execution_count": null,
   "metadata": {
    "collapsed": true
   },
   "outputs": [],
   "source": []
  },
  {
   "cell_type": "code",
   "execution_count": null,
   "metadata": {
    "collapsed": true
   },
   "outputs": [],
   "source": []
  },
  {
   "cell_type": "code",
   "execution_count": 267,
   "metadata": {
    "collapsed": true
   },
   "outputs": [],
   "source": [
    "# Load one .txt file and return the absolute value of velocity and density\n",
    "def load_file(fr):\n",
    "    filename = \"fr_%04d\"%fr\n",
    "    contents = np.loadtxt(outdir+filename+\".txt\")\n",
    "    header = contents[0,:]\n",
    "    nx = int(header[3])\n",
    "    ny = int(header[4])\n",
    "    i = contents[1:nx*ny+1,0]\n",
    "    j = contents[1:nx*ny+1,1]\n",
    "    rho = contents[1:nx*ny+1,2].reshape(ny,nx)\n",
    "    ux = contents[1:nx*ny+1,3].reshape(ny,nx)\n",
    "    uy = contents[1:nx*ny+1,4].reshape(ny,nx)\n",
    "#     usq = np.sqrt(ux*ux+uy*uy)\n",
    "    X = np.arange(0,ny,1)\n",
    "    Y = np.arange(0,nx,1)\n",
    "    X, Y = np.meshgrid(X, Y)\n",
    "    return rho,ux,uy"
   ]
  },
  {
   "cell_type": "code",
   "execution_count": 12,
   "metadata": {},
   "outputs": [],
   "source": [
    "i,j,rho,ux,uy = load_file(3)"
   ]
  },
  {
   "cell_type": "code",
   "execution_count": 13,
   "metadata": {},
   "outputs": [
    {
     "data": {
      "text/plain": [
       "200.0"
      ]
     },
     "execution_count": 13,
     "metadata": {},
     "output_type": "execute_result"
    }
   ],
   "source": [
    "j[-1]"
   ]
  },
  {
   "cell_type": "code",
   "execution_count": 14,
   "metadata": {},
   "outputs": [],
   "source": [
    "rhomat = np.zeros((200,40))\n",
    "for k in range(len(i)):\n",
    "#     print(i(k),j(k))\n",
    "    indexi=int(i[k])\n",
    "    indexj=int(j[k])\n",
    "#     print(indexi,indexj)\n",
    "    rhomat[indexj-1][indexi-1]=rho[k]"
   ]
  },
  {
   "cell_type": "code",
   "execution_count": 15,
   "metadata": {},
   "outputs": [
    {
     "data": {
      "text/plain": [
       "array([[1.00164 , 1.00661 , 1.00592 , ..., 1.00592 , 1.00591 , 1.00418 ],\n",
       "       [1.00009 , 1.00194 , 1.00629 , ..., 1.0056  , 1.0056  , 1.00418 ],\n",
       "       [1.00001 , 1.00071 , 1.00194 , ..., 1.0056  , 1.0056  , 1.00418 ],\n",
       "       ...,\n",
       "       [1.00001 , 1.00056 , 0.998104, ..., 0.993788, 0.993788, 0.995213],\n",
       "       [0.999935, 0.998104, 0.993714, ..., 0.993788, 0.993788, 0.995213],\n",
       "       [0.998395, 0.99402 , 0.994094, ..., 0.994094, 0.994089, 0.995819]])"
      ]
     },
     "execution_count": 15,
     "metadata": {},
     "output_type": "execute_result"
    }
   ],
   "source": [
    "rhomat"
   ]
  },
  {
   "cell_type": "code",
   "execution_count": null,
   "metadata": {
    "collapsed": true
   },
   "outputs": [],
   "source": []
  },
  {
   "cell_type": "code",
   "execution_count": null,
   "metadata": {
    "collapsed": true
   },
   "outputs": [],
   "source": []
  },
  {
   "cell_type": "code",
   "execution_count": null,
   "metadata": {
    "collapsed": true
   },
   "outputs": [],
   "source": []
  },
  {
   "cell_type": "code",
   "execution_count": 566,
   "metadata": {},
   "outputs": [],
   "source": [
    "for i in range(99):\n",
    "    ux=load_file(i)[1]\n",
    "    fig, ax = plt.subplots(figsize=(20,8))\n",
    "    plt.imshow(ux)\n",
    "    fig.gca().invert_yaxis()\n",
    "    plt.colorbar(shrink=0.4)\n",
    "    plt.title(\"Ux at Frame %i\" % i)\n",
    "    plt.savefig(outdir+'ux_%04d.png' % i)\n",
    "    plt.close('all')"
   ]
  },
  {
   "cell_type": "code",
   "execution_count": 398,
   "metadata": {},
   "outputs": [],
   "source": [
    "rho=load_file(20)[1]"
   ]
  },
  {
   "cell_type": "code",
   "execution_count": 399,
   "metadata": {
    "scrolled": true
   },
   "outputs": [
    {
     "data": {
      "image/png": "[encoded data removed]",
      "text/plain": [
       "<Figure size 1440x576 with 2 Axes>"
      ]
     },
     "metadata": {},
     "output_type": "display_data"
    }
   ],
   "source": [
    "fig, ax = plt.subplots(figsize=(20,8))\n",
    "plt.imshow(rho,cmap=cm.inferno)\n",
    "fig.gca().invert_yaxis()\n",
    "plt.colorbar(shrink=0.4)\n",
    "plt.title(\"Density at Frame 0\")\n",
    "plt.show()"
   ]
  },
  {
   "cell_type": "code",
   "execution_count": 400,
   "metadata": {},
   "outputs": [
    {
     "data": {
      "image/png": "[encoded data removed]",
      "text/plain": [
       "<Figure size 432x288 with 1 Axes>"
      ]
     },
     "metadata": {},
     "output_type": "display_data"
    }
   ],
   "source": [
    "for i in range(0,100,10):\n",
    "    uy=load_file(i)[2]\n",
    "    plt.plot(np.arange(0,40,1),uy[:,100],label='Frame %i' % i)\n",
    "plt.legend()\n",
    "plt.title(\"U_y\")\n",
    "plt.show()\n",
    "    "
   ]
  },
  {
   "cell_type": "code",
   "execution_count": 401,
   "metadata": {},
   "outputs": [
    {
     "data": {
      "image/png": "[encoded data removed]",
      "text/plain": [
       "<Figure size 432x288 with 1 Axes>"
      ]
     },
     "metadata": {},
     "output_type": "display_data"
    }
   ],
   "source": [
    "for i in range(0,100,10):\n",
    "    ux=load_file(i)[1]\n",
    "    plt.plot(np.arange(0,40,1),ux[:,100],label='Frame %i' % i)\n",
    "plt.legend()\n",
    "plt.title(\"U_x\")\n",
    "plt.show()"
   ]
  },
  {
   "cell_type": "code",
   "execution_count": null,
   "metadata": {
    "collapsed": true
   },
   "outputs": [],
   "source": []
  },
  {
   "cell_type": "code",
   "execution_count": null,
   "metadata": {
    "collapsed": true
   },
   "outputs": [],
   "source": []
  },
  {
   "cell_type": "code",
   "execution_count": 353,
   "metadata": {},
   "outputs": [
    {
     "data": {
      "text/plain": [
       "array([[ 5.95329e-06,  6.19532e-06,  5.14898e-06, ...,  4.41386e-06,\n",
       "         2.44562e-06, -6.57705e-07],\n",
       "       [ 3.03317e-06,  3.48464e-06,  5.24436e-06, ...,  3.66802e-06,\n",
       "         3.37958e-06,  1.39584e-07],\n",
       "       [ 2.28132e-06,  3.77842e-07,  2.45941e-06, ...,  4.57284e-06,\n",
       "         4.42447e-06,  4.50686e-07],\n",
       "       ...,\n",
       "       [ 1.32133e-06, -3.00529e-06, -2.41312e-06, ...,  3.80954e-06,\n",
       "         3.70909e-06, -1.01323e-06],\n",
       "       [ 1.17665e-06, -3.59410e-06, -2.14718e-06, ...,  2.93578e-06,\n",
       "         3.95209e-06, -1.16503e-06],\n",
       "       [-2.77124e-06, -3.63287e-06, -2.55922e-06, ...,  1.40578e-06,\n",
       "         2.02559e-06,  1.60269e-06]])"
      ]
     },
     "execution_count": 353,
     "metadata": {},
     "output_type": "execute_result"
    }
   ],
   "source": [
    "rho.reshape(40,200)"
   ]
  },
  {
   "cell_type": "code",
   "execution_count": 360,
   "metadata": {},
   "outputs": [
    {
     "data": {
      "image/png": "[encoded data removed]",
      "text/plain": [
       "<Figure size 432x288 with 1 Axes>"
      ]
     },
     "metadata": {},
     "output_type": "display_data"
    }
   ],
   "source": [
    "plt.plot(np.arange(0,40,1),mat[:,1])\n",
    "plt.show()"
   ]
  },
  {
   "cell_type": "code",
   "execution_count": null,
   "metadata": {
    "collapsed": true
   },
   "outputs": [],
   "source": []
  },
  {
   "cell_type": "code",
   "execution_count": null,
   "metadata": {
    "collapsed": true
   },
   "outputs": [],
   "source": []
  },
  {
   "cell_type": "code",
   "execution_count": 354,
   "metadata": {},
   "outputs": [],
   "source": [
    "mat=rho.reshape(40,200)"
   ]
  },
  {
   "cell_type": "code",
   "execution_count": 355,
   "metadata": {},
   "outputs": [
    {
     "data": {
      "image/png": "[encoded data removed]",
      "text/plain": [
       "<Figure size 432x288 with 1 Axes>"
      ]
     },
     "metadata": {},
     "output_type": "display_data"
    }
   ],
   "source": [
    "plt.imshow(mat)\n",
    "plt.gca().invert_yaxis()\n",
    "plt.show()"
   ]
  },
  {
   "cell_type": "code",
   "execution_count": null,
   "metadata": {
    "collapsed": true
   },
   "outputs": [],
   "source": []
  },
  {
   "cell_type": "code",
   "execution_count": null,
   "metadata": {
    "collapsed": true
   },
   "outputs": [],
   "source": []
  },
  {
   "cell_type": "code",
   "execution_count": null,
   "metadata": {
    "collapsed": true
   },
   "outputs": [],
   "source": []
  },
  {
   "cell_type": "code",
   "execution_count": null,
   "metadata": {
    "collapsed": true
   },
   "outputs": [],
   "source": []
  },
  {
   "cell_type": "code",
   "execution_count": 4,
   "metadata": {
    "collapsed": true
   },
   "outputs": [],
   "source": [
    "# Load one .txt file and return the absolute value of velocity and density\n",
    "def load_file(fr):\n",
    "    filename = \"fr_%04d\"%fr\n",
    "    contents = np.loadtxt(outdir+filename+\".txt\")\n",
    "    header = contents[0,:]\n",
    "    nxb = int(header[1])\n",
    "    nyb = int(header[2])\n",
    "    rho = contents[1:nxb*nyb+1,0].reshape(nyb,nxb)\n",
    "    ux = contents[1:nxb*nyb+1,1].reshape(nyb,nxb)\n",
    "    uy = contents[1:nxb*nyb+1,2].reshape(nyb,nxb)\n",
    "    usq = np.sqrt(ux*ux+uy*uy)\n",
    "    X = np.arange(0,nyb-2,1)\n",
    "    Y = np.arange(0,nxb-2,1)\n",
    "    X, Y = np.meshgrid(X, Y)\n",
    "    return rho[1:nyb-1,1:nxb-1],uy[1:nyb-1,1:nxb-1],X,Y"
   ]
  },
  {
   "cell_type": "code",
   "execution_count": 5,
   "metadata": {},
   "outputs": [],
   "source": [
    "testrho=load_file(1)[0]"
   ]
  },
  {
   "cell_type": "code",
   "execution_count": 21,
   "metadata": {
    "collapsed": true
   },
   "outputs": [],
   "source": [
    "# Get limits for colorbar range\n",
    "def get_lims(rho,usq):\n",
    "    bar_rho = np.zeros_like(rho)\n",
    "    bar_rho[rho==0] = 1\n",
    "    bar_rho[bar_rho==0] = np.nan\n",
    "    bar_usq = np.zeros_like(usq)\n",
    "    bar_usq[usq==0] = 1\n",
    "    bar_usq[bar_usq==0] = np.nan\n",
    "    usqmin = np.min(usq)\n",
    "    usqmax = np.max(usq)\n",
    "    rhomin = np.min(rho[rho>0])\n",
    "    rhomax = np.max(rho)\n",
    "    return bar_rho,bar_usq,usqmin,usqmax,rhomin,rhomax"
   ]
  },
  {
   "cell_type": "code",
   "execution_count": 22,
   "metadata": {
    "collapsed": true
   },
   "outputs": [],
   "source": [
    "frames = range(10)\n",
    "rho,uy = load_file(frames[-1])[0:2]\n",
    "bar_rho,bar_usq,usqmin,usqmax,rhomin,rhomax = get_lims(rho,usq)"
   ]
  },
  {
   "cell_type": "code",
   "execution_count": null,
   "metadata": {
    "collapsed": true
   },
   "outputs": [],
   "source": []
  },
  {
   "cell_type": "code",
   "execution_count": 143,
   "metadata": {},
   "outputs": [],
   "source": [
    "for fr in range(1000):\n",
    "    filename = \"fr_%04d\"%fr\n",
    "    rho,uy = load_file(fr)\n",
    "    fig, ax = plt.subplots(figsize=(15,6))\n",
    "    # print(\"Frame: \",fr)\n",
    "    # print(usq[1:ny-1,1:nx-1])\n",
    "    cs = ax.imshow(uy,cmap=cm.magma)\n",
    "#     ax.imshow(bar2,cmap=cm.nipy_spectral_r)\n",
    "#     cs.set_clim(0,np.round(usqmax,3))\n",
    "#     cbar = fig.colorbar(cs, ticks=[0,np.round(usqmax/2,3),np.round(usqmax,3)], orientation='horizontal')\n",
    "#     cbar.ax.tick_params(labelsize=28)\n",
    "    ax.set_xlabel(r'$x$', fontsize=16)\n",
    "    ax.set_ylabel(r'$y$', fontsize=16)\n",
    "    ax.set_title('Uy at Frame %04d' % fr, fontsize=20)\n",
    "#     plt.show()\n",
    "    plt.savefig(outdir+'uy_%04d.png' % fr)\n",
    "    plt.close('all')"
   ]
  },
  {
   "cell_type": "code",
   "execution_count": 8,
   "metadata": {},
   "outputs": [
    {
     "data": {
      "image/png": "[encoded data removed]",
      "text/plain": [
       "<Figure size 1080x432 with 1 Axes>"
      ]
     },
     "metadata": {},
     "output_type": "display_data"
    }
   ],
   "source": [
    "fig, ax = plt.subplots(figsize=(15,6))\n",
    "cs = ax.imshow(testrho,cmap=cm.magma)\n",
    "ax.set_xlabel(r'$x$', fontsize=16)\n",
    "ax.set_ylabel(r'$y$', fontsize=16)\n",
    "ax.set_title('Density at Frame %04d' % 1, fontsize=20)\n",
    "plt.show()"
   ]
  },
  {
   "cell_type": "code",
   "execution_count": null,
   "metadata": {
    "collapsed": true
   },
   "outputs": [],
   "source": []
  },
  {
   "cell_type": "code",
   "execution_count": null,
   "metadata": {
    "collapsed": true
   },
   "outputs": [],
   "source": [
    "0.930502+0.988407+0.965297"
   ]
  },
  {
   "cell_type": "code",
   "execution_count": null,
   "metadata": {
    "collapsed": true
   },
   "outputs": [],
   "source": [
    "0.930502, sum of f_eq: 0.935213\n",
    "Lattice 8, sum of f: 0.988407, sum of f_eq: 0.96765\n",
    "Lattice 9, sum of f: 0.965297, sum of f_eq: 0.954069\n",
    "Lattice 10, sum of f: 1.03061, sum of f_eq: 1.02539\n",
    "Lattice 13, sum of f: 0.90747, sum of f_eq: 0.905418\n",
    "Lattice 14, sum of f: 0.884761, sum of f_eq: 0.873593\n",
    "Lattice 15, sum of f: 1.00448, sum of f_eq: 0.970764\n",
    "Lattice 16, sum of f: 0.972232, sum of f_eq: 0.957461\n",
    "Lattice 19, sum of f: 0.963707, sum of f_eq: 0.95694\n",
    "Lattice 20, sum of f: 0.939163, sum of f_eq: 0.921939\n",
    "Lattice 21, sum of f: 0.946439, sum of f_eq: 0.925086\n",
    "Lattice 22, sum of f: 1.11697, sum of f_eq: 1.09768"
   ]
  },
  {
   "cell_type": "code",
   "execution_count": null,
   "metadata": {
    "collapsed": true
   },
   "outputs": [],
   "source": []
  },
  {
   "cell_type": "code",
   "execution_count": 7,
   "metadata": {},
   "outputs": [
    {
     "data": {
      "text/plain": [
       "(20, 80)"
      ]
     },
     "execution_count": 7,
     "metadata": {},
     "output_type": "execute_result"
    }
   ],
   "source": [
    "rho.shape"
   ]
  },
  {
   "cell_type": "code",
   "execution_count": 13,
   "metadata": {},
   "outputs": [
    {
     "data": {
      "text/plain": [
       "array([[nan, nan, nan, ..., nan, nan, nan],\n",
       "       [nan, nan, nan, ..., nan, nan, nan],\n",
       "       [nan, nan, nan, ..., nan, nan, nan],\n",
       "       ...,\n",
       "       [nan, nan, nan, ..., nan, nan, nan],\n",
       "       [nan, nan, nan, ..., nan, nan, nan],\n",
       "       [nan, nan, nan, ..., nan, nan, nan]])"
      ]
     },
     "execution_count": 13,
     "metadata": {},
     "output_type": "execute_result"
    }
   ],
   "source": [
    "bar_usq"
   ]
  },
  {
   "cell_type": "code",
   "execution_count": null,
   "metadata": {
    "collapsed": true
   },
   "outputs": [],
   "source": []
  },
  {
   "cell_type": "code",
   "execution_count": null,
   "metadata": {
    "collapsed": true
   },
   "outputs": [],
   "source": []
  },
  {
   "cell_type": "code",
   "execution_count": null,
   "metadata": {
    "collapsed": true
   },
   "outputs": [],
   "source": [
    "outdir = \"cyl_Re80.out/\"\n",
    "\n",
    "# Output all frames\n",
    "frames = range(10)\n",
    "# Output selected frames\n",
    "# frames = [0,10,20,30]\n",
    "\n",
    "# Load one .txt file and return the absolute value of velocity and density\n",
    "def load_file(fr):\n",
    "\tfilename = \"fr_%04d\"%fr\n",
    "\tcontents = np.loadtxt(outdir+filename+\".txt\")\n",
    "\theader = contents[0,:]\n",
    "\tnxb = int(header[1])\n",
    "\tnyb = int(header[2])\n",
    "\trho = contents[1:nxb*nyb+1,0].reshape(nyb,nxb)\n",
    "\tux = contents[1:nxb*nyb+1,1].reshape(nyb,nxb)\n",
    "\tuy = contents[1:nxb*nyb+1,2].reshape(nyb,nxb)\n",
    "\tusq = np.sqrt(ux*ux+uy*uy)\n",
    "\tX = np.arange(0,nyb-2,1)\n",
    "\tY = np.arange(0,nxb-2,1)\n",
    "\tX, Y = np.meshgrid(X, Y)\n",
    "\treturn rho[1:nyb-1,1:nxb-1],usq[1:nyb-1,1:nxb-1],X,Y\n",
    "\n",
    "# Get limits for colorbar range\n",
    "def get_lims(rho,usq):\n",
    "\tbar1 = np.zeros_like(rho)\n",
    "\tbar1[rho==0] = 1\n",
    "\tbar1[bar1==0] = np.nan\n",
    "\tbar2 = np.zeros_like(usq)\n",
    "\tbar2[usq==0] = 1\n",
    "\tbar2[bar2==0] = np.nan\n",
    "\tusqmin = np.min(usq)\n",
    "\tusqmax = np.max(usq)\n",
    "\trhomin = np.min(rho[rho>0])\n",
    "\trhomax = np.max(rho)\n",
    "\treturn bar1,bar2,usqmin,usqmax,rhomin,rhomax\n",
    "\n",
    "# Open the last frame to get colorbar limits\n",
    "rho,usq = load_file(frames[-1]-1)[0:2]\n",
    "bar1,bar2,usqmin,usqmax,rhomin,rhomax = get_lims(rho,usq)\n",
    "\n",
    "for fr in frames:\n",
    "\tfilename = \"fr_%04d\"%fr\n",
    "\trho,usq,X,Y = load_file(fr)\n",
    "\tfig, ax = plt.subplots(figsize=(15,6))\n",
    "\t# print(\"Frame: \",fr)\n",
    "\t# print(usq[1:ny-1,1:nx-1])\n",
    "\tcs = ax.imshow(usq,cmap=cm.magma)\n",
    "\tax.imshow(bar2,cmap=cm.nipy_spectral_r)\n",
    "\tcs.set_clim(0,np.round(usqmax,3))\n",
    "\tcbar = fig.colorbar(cs, ticks=[0,np.round(usqmax/2,3),np.round(usqmax,3)], orientation='horizontal')\n",
    "\tcbar.ax.tick_params(labelsize=28)\n",
    "\tax.set_xlabel(r'$x$', fontsize=16)\n",
    "\tax.set_ylabel(r'$y$', fontsize=16)\n",
    "\tax.set_title('Velocity at Frame %04d' % fr, fontsize=20)\n",
    "\tplt.savefig(outdir+'%04d.png' % fr)\n",
    "\tplt.close('all')"
   ]
  },
  {
   "cell_type": "code",
   "execution_count": null,
   "metadata": {
    "collapsed": true
   },
   "outputs": [],
   "source": []
  },
  {
   "cell_type": "code",
   "execution_count": null,
   "metadata": {
    "collapsed": true
   },
   "outputs": [],
   "source": []
  },
  {
   "cell_type": "code",
   "execution_count": 159,
   "metadata": {},
   "outputs": [],
   "source": [
    "A = np.matrix([[1,1,1,1], [3,2,1,0], [(4/3)**3,(4/3)**2,4/3,1], [3*(4/3)**2,2*4/3,1,0]])"
   ]
  },
  {
   "cell_type": "code",
   "execution_count": 154,
   "metadata": {},
   "outputs": [
    {
     "data": {
      "text/plain": [
       "matrix([[1.        , 1.        , 1.        , 1.        ],\n",
       "        [3.        , 2.        , 1.        , 0.        ],\n",
       "        [1.37174211, 1.2345679 , 1.11111111, 1.        ],\n",
       "        [3.7037037 , 2.22222222, 1.        , 0.        ]])"
      ]
     },
     "execution_count": 154,
     "metadata": {},
     "output_type": "execute_result"
    }
   ],
   "source": [
    "A"
   ]
  },
  {
   "cell_type": "code",
   "execution_count": null,
   "metadata": {
    "collapsed": true
   },
   "outputs": [],
   "source": []
  },
  {
   "cell_type": "code",
   "execution_count": null,
   "metadata": {
    "collapsed": true
   },
   "outputs": [],
   "source": []
  },
  {
   "cell_type": "code",
   "execution_count": 165,
   "metadata": {
    "collapsed": true
   },
   "outputs": [],
   "source": [
    "A = np.matrix([[0,0,0,1],[0,0,1,0],[1,1,1,1],[3,2,1,0]])"
   ]
  },
  {
   "cell_type": "code",
   "execution_count": 142,
   "metadata": {},
   "outputs": [
    {
     "data": {
      "text/plain": [
       "matrix([[0.        , 0.        , 0.        , 0.        ],\n",
       "        [0.        , 0.        , 1.        , 0.        ],\n",
       "        [0.03703704, 0.11111111, 0.33333333, 1.        ],\n",
       "        [0.33333333, 0.66666667, 1.        , 0.        ]])"
      ]
     },
     "execution_count": 142,
     "metadata": {},
     "output_type": "execute_result"
    }
   ],
   "source": [
    "A"
   ]
  },
  {
   "cell_type": "code",
   "execution_count": 119,
   "metadata": {},
   "outputs": [],
   "source": [
    "b = np.matrix([[0],[1],[0],[-1]])"
   ]
  },
  {
   "cell_type": "code",
   "execution_count": 166,
   "metadata": {},
   "outputs": [],
   "source": [
    "b = np.array([0,1,0,0])"
   ]
  },
  {
   "cell_type": "code",
   "execution_count": 167,
   "metadata": {},
   "outputs": [],
   "source": [
    "c = np.linalg.solve(A,b)"
   ]
  },
  {
   "cell_type": "code",
   "execution_count": 168,
   "metadata": {},
   "outputs": [
    {
     "data": {
      "text/plain": [
       "array([ 1., -2.,  1.,  0.])"
      ]
     },
     "execution_count": 168,
     "metadata": {},
     "output_type": "execute_result"
    }
   ],
   "source": [
    "c"
   ]
  },
  {
   "cell_type": "code",
   "execution_count": 130,
   "metadata": {},
   "outputs": [
    {
     "data": {
      "text/plain": [
       "-4.6629367034256575e-14"
      ]
     },
     "execution_count": 130,
     "metadata": {},
     "output_type": "execute_result"
    }
   ],
   "source": [
    "c[0]"
   ]
  },
  {
   "cell_type": "code",
   "execution_count": null,
   "metadata": {
    "collapsed": true
   },
   "outputs": [],
   "source": []
  },
  {
   "cell_type": "code",
   "execution_count": null,
   "metadata": {
    "collapsed": true
   },
   "outputs": [],
   "source": []
  },
  {
   "cell_type": "code",
   "execution_count": 177,
   "metadata": {
    "collapsed": true
   },
   "outputs": [],
   "source": [
    "x = np.linspace(0,1,100)"
   ]
  },
  {
   "cell_type": "code",
   "execution_count": 178,
   "metadata": {},
   "outputs": [
    {
     "data": {
      "image/png": "[encoded data removed]",
      "text/plain": [
       "<Figure size 432x288 with 1 Axes>"
      ]
     },
     "metadata": {},
     "output_type": "display_data"
    }
   ],
   "source": [
    "plt.plot(x, c[0]*x**3+c[1]*x**2+c[2]*x+c[3])\n",
    "plt.plot(np.linspace(1,3,200), 0*np.linspace(1,3,200))\n",
    "plt.show()"
   ]
  },
  {
   "cell_type": "code",
   "execution_count": null,
   "metadata": {
    "collapsed": true
   },
   "outputs": [],
   "source": []
  },
  {
   "cell_type": "code",
   "execution_count": 189,
   "metadata": {},
   "outputs": [
    {
     "data": {
      "text/plain": [
       "array([  9., -33.,  40., -16.])"
      ]
     },
     "execution_count": 189,
     "metadata": {},
     "output_type": "execute_result"
    }
   ],
   "source": [
    "# Phi_1\n",
    "x1 = 1\n",
    "x2 = 4/3\n",
    "A = np.matrix([[x1**3,x1**2,x1,1], [3*x1**2,2*x1,1,0], [x2**3,x2**2,x2,1], [3*x2**2,2*x2,1,0]])\n",
    "b = np.array([0,1,0,0])\n",
    "c1 = np.linalg.solve(A,b)\n",
    "c1"
   ]
  },
  {
   "cell_type": "code",
   "execution_count": 190,
   "metadata": {},
   "outputs": [
    {
     "data": {
      "image/png": "[encoded data removed]",
      "text/plain": [
       "<Figure size 432x288 with 1 Axes>"
      ]
     },
     "metadata": {},
     "output_type": "display_data"
    }
   ],
   "source": [
    "x = np.linspace(1,4/3,100)\n",
    "plt.plot(x, c1[0]*x**3+c1[1]*x**2+c1[2]*x+c1[3])\n",
    "plt.show()"
   ]
  },
  {
   "cell_type": "code",
   "execution_count": null,
   "metadata": {
    "collapsed": true
   },
   "outputs": [],
   "source": []
  },
  {
   "cell_type": "code",
   "execution_count": null,
   "metadata": {
    "collapsed": true
   },
   "outputs": [],
   "source": []
  },
  {
   "cell_type": "code",
   "execution_count": null,
   "metadata": {
    "collapsed": true
   },
   "outputs": [],
   "source": []
  },
  {
   "cell_type": "code",
   "execution_count": null,
   "metadata": {
    "collapsed": true
   },
   "outputs": [],
   "source": []
  },
  {
   "cell_type": "code",
   "execution_count": null,
   "metadata": {
    "collapsed": true
   },
   "outputs": [],
   "source": []
  },
  {
   "cell_type": "code",
   "execution_count": null,
   "metadata": {
    "collapsed": true
   },
   "outputs": [],
   "source": []
  },
  {
   "cell_type": "code",
   "execution_count": 188,
   "metadata": {},
   "outputs": [
    {
     "data": {
      "text/plain": [
       "array([  9., -51.,  96., -60.])"
      ]
     },
     "execution_count": 188,
     "metadata": {},
     "output_type": "execute_result"
    }
   ],
   "source": [
    "# Phi_7\n",
    "x1 = 5/3\n",
    "x2 = 2\n",
    "A = np.matrix([[x1**3,x1**2,x1,1], [3*x1**2,2*x1,1,0], [x2**3,x2**2,x2,1], [3*x2**2,2*x2,1,0]])\n",
    "b = np.array([0,1,0,0])\n",
    "c7 = np.linalg.solve(A,b)\n",
    "c7"
   ]
  },
  {
   "cell_type": "code",
   "execution_count": 191,
   "metadata": {},
   "outputs": [
    {
     "data": {
      "image/png": "[encoded data removed]",
      "text/plain": [
       "<Figure size 432x288 with 1 Axes>"
      ]
     },
     "metadata": {},
     "output_type": "display_data"
    }
   ],
   "source": [
    "x = np.linspace(5/3,2,100)\n",
    "plt.plot(x, c7[0]*x**3+c7[1]*x**2+c7[2]*x+c7[3])\n",
    "plt.show()"
   ]
  },
  {
   "cell_type": "code",
   "execution_count": null,
   "metadata": {
    "collapsed": true
   },
   "outputs": [],
   "source": []
  }
 ],
 "metadata": {
  "kernelspec": {
   "display_name": "Python 3",
   "language": "python",
   "name": "python3"
  },
  "language_info": {
   "codemirror_mode": {
    "name": "ipython",
    "version": 3
   },
   "file_extension": ".py",
   "mimetype": "text/x-python",
   "name": "python",
   "nbconvert_exporter": "python",
   "pygments_lexer": "ipython3",
   "version": "3.6.3"
  }
 },
 "nbformat": 4,
 "nbformat_minor": 2
}
